{
  "nbformat": 4,
  "nbformat_minor": 0,
  "metadata": {
    "colab": {
      "provenance": [],
      "mount_file_id": "1y3Mat-rRiOSWTDFtFOo0SbpKA6IuYzXe",
      "authorship_tag": "ABX9TyPr3Xi0PbxEIjde6jRf9Hjj",
      "include_colab_link": true
    },
    "kernelspec": {
      "name": "python3",
      "display_name": "Python 3"
    },
    "language_info": {
      "name": "python"
    }
  },
  "cells": [
    {
      "cell_type": "markdown",
      "metadata": {
        "id": "view-in-github",
        "colab_type": "text"
      },
      "source": [
        "<a href=\"https://colab.research.google.com/github/CATS70/colab/blob/main/MSPR/batch_sam.ipynb\" target=\"_parent\"><img src=\"https://colab.research.google.com/assets/colab-badge.svg\" alt=\"Open In Colab\"/></a>"
      ]
    },
    {
      "cell_type": "code",
      "execution_count": 2,
      "metadata": {
        "id": "LNKDwmevQpuh"
      },
      "outputs": [],
      "source": [
        "%%capture\n",
        "!pip install segment-anything"
      ]
    }
  ]
}